{
  "nbformat": 4,
  "nbformat_minor": 0,
  "metadata": {
    "colab": {
      "name": "Polynomial_regression.ipynb",
      "provenance": [],
      "collapsed_sections": [],
      "toc_visible": true
    },
    "kernelspec": {
      "name": "python3",
      "display_name": "Python 3"
    }
  },
  "cells": [
    {
      "cell_type": "markdown",
      "metadata": {
        "id": "CazISR8X_HUG",
        "colab_type": "text"
      },
      "source": [
        "# Multiple Linear Regression"
      ]
    },
    {
      "cell_type": "markdown",
      "metadata": {
        "id": "pOyqYHTk_Q57",
        "colab_type": "text"
      },
      "source": [
        "## Importing the libraries"
      ]
    },
    {
      "cell_type": "code",
      "metadata": {
        "id": "mEqqW9I3doBG",
        "colab_type": "code",
        "colab": {}
      },
      "source": [
        "import numpy as np\n",
        "import matplotlib.pyplot as plt\n",
        "import pandas as pd"
      ],
      "execution_count": 0,
      "outputs": []
    },
    {
      "cell_type": "markdown",
      "metadata": {
        "id": "vgC61-ah_WIz",
        "colab_type": "text"
      },
      "source": [
        "## Importing the dataset"
      ]
    },
    {
      "cell_type": "code",
      "metadata": {
        "id": "SlrJs6mOd0Qw",
        "colab_type": "code",
        "outputId": "c04b0725-5b3d-4764-ca41-73e57e703d07",
        "colab": {
          "base_uri": "https://localhost:8080/",
          "height": 255
        }
      },
      "source": [
        "dataset = pd.read_csv('bottle.csv')\n",
        "dataset = dataset[:][:500]\n",
        "print(dataset.describe())"
      ],
      "execution_count": 37,
      "outputs": [
        {
          "output_type": "stream",
          "text": [
            "/usr/local/lib/python3.6/dist-packages/IPython/core/interactiveshell.py:2718: DtypeWarning: Columns (47,73) have mixed types.Specify dtype option on import or set low_memory=False.\n",
            "  interactivity=interactivity, compiler=compiler, result=result)\n"
          ],
          "name": "stderr"
        },
        {
          "output_type": "stream",
          "text": [
            "          Cst_Cnt     Btl_Cnt       Depthm      T_degC  ...  TA1  TA2  pH2  pH1\n",
            "count  500.000000  500.000000   500.000000  499.000000  ...  0.0  0.0  0.0  0.0\n",
            "mean     8.548000  250.500000   341.490000    7.850421  ...  NaN  NaN  NaN  NaN\n",
            "std      4.570062  144.481833   355.166886    2.911584  ...  NaN  NaN  NaN  NaN\n",
            "min      1.000000    1.000000     0.000000    2.780000  ...  NaN  NaN  NaN  NaN\n",
            "25%      5.000000  125.750000    55.000000    5.030000  ...  NaN  NaN  NaN  NaN\n",
            "50%      9.000000  250.500000   200.000000    8.180000  ...  NaN  NaN  NaN  NaN\n",
            "75%     12.250000  375.250000   598.500000   10.450000  ...  NaN  NaN  NaN  NaN\n",
            "max     16.000000  500.000000  1352.000000   12.660000  ...  NaN  NaN  NaN  NaN\n",
            "\n",
            "[8 rows x 70 columns]\n"
          ],
          "name": "stdout"
        }
      ]
    },
    {
      "cell_type": "code",
      "metadata": {
        "id": "QFCikYc9UFYq",
        "colab_type": "code",
        "outputId": "384ada0c-9428-4d51-e637-1409e845007c",
        "colab": {
          "base_uri": "https://localhost:8080/",
          "height": 151
        }
      },
      "source": [
        "print(dataset.head())"
      ],
      "execution_count": 38,
      "outputs": [
        {
          "output_type": "stream",
          "text": [
            "   Cst_Cnt  Btl_Cnt       Sta_ID  ... pH2  pH1  DIC Quality Comment\n",
            "0        1        1  054.0 056.0  ... NaN  NaN                  NaN\n",
            "1        1        2  054.0 056.0  ... NaN  NaN                  NaN\n",
            "2        1        3  054.0 056.0  ... NaN  NaN                  NaN\n",
            "3        1        4  054.0 056.0  ... NaN  NaN                  NaN\n",
            "4        1        5  054.0 056.0  ... NaN  NaN                  NaN\n",
            "\n",
            "[5 rows x 74 columns]\n"
          ],
          "name": "stdout"
        }
      ]
    },
    {
      "cell_type": "code",
      "metadata": {
        "id": "cNA3EkWmUCxB",
        "colab_type": "code",
        "colab": {}
      },
      "source": [
        "X = np.array(dataset['Salnty']).reshape(-1,1)\n",
        "y = np.array(dataset['T_degC']).reshape(-1,1)"
      ],
      "execution_count": 0,
      "outputs": []
    },
    {
      "cell_type": "markdown",
      "metadata": {
        "id": "glly9ybsWEh2",
        "colab_type": "text"
      },
      "source": [
        "## Removing Nan values"
      ]
    },
    {
      "cell_type": "code",
      "metadata": {
        "id": "maMTdfaBWIJ4",
        "colab_type": "code",
        "colab": {}
      },
      "source": [
        "from sklearn.impute import SimpleImputer\n",
        "imputer = SimpleImputer(missing_values=np.nan, strategy='mean')\n",
        "imputer.fit(X)\n",
        "X = imputer.transform(X)\n",
        "imputery = SimpleImputer(missing_values = np.nan, strategy = 'mean')\n",
        "imputery.fit(y)\n",
        "y= imputery.transform(y)"
      ],
      "execution_count": 0,
      "outputs": []
    },
    {
      "cell_type": "markdown",
      "metadata": {
        "id": "WemVnqgeA70k",
        "colab_type": "text"
      },
      "source": [
        "## Splitting the dataset into the Training set and Test set"
      ]
    },
    {
      "cell_type": "code",
      "metadata": {
        "id": "ADDCKSH1e_Eq",
        "colab_type": "code",
        "colab": {}
      },
      "source": [
        "from sklearn.model_selection import train_test_split\n",
        "X_train, X_test, y_train, y_test = train_test_split(X, y, test_size = 0.2, random_state = 0)"
      ],
      "execution_count": 0,
      "outputs": []
    },
    {
      "cell_type": "markdown",
      "metadata": {
        "id": "Pf_89nZjVmgr",
        "colab_type": "text"
      },
      "source": [
        "## Training Polynomial regression model with entire data"
      ]
    },
    {
      "cell_type": "code",
      "metadata": {
        "id": "rNQ6aVLhfNTr",
        "colab_type": "code",
        "outputId": "0fe4c6b4-7889-43c3-ebd6-23028eee7d46",
        "colab": {
          "base_uri": "https://localhost:8080/",
          "height": 34
        }
      },
      "source": [
        "from sklearn.linear_model import LinearRegression\n",
        "from sklearn.preprocessing import PolynomialFeatures\n",
        "ploy_reg = PolynomialFeatures(degree = 2)\n",
        "X_poly = ploy_reg.fit_transform(X_train)\n",
        "regressor = LinearRegression()\n",
        "regressor.fit(X_poly,y_train)"
      ],
      "execution_count": 42,
      "outputs": [
        {
          "output_type": "execute_result",
          "data": {
            "text/plain": [
              "LinearRegression(copy_X=True, fit_intercept=True, n_jobs=None, normalize=False)"
            ]
          },
          "metadata": {
            "tags": []
          },
          "execution_count": 42
        }
      ]
    },
    {
      "cell_type": "markdown",
      "metadata": {
        "id": "xNkXL1YQBiBT",
        "colab_type": "text"
      },
      "source": [
        "## Predicting the Test set results"
      ]
    },
    {
      "cell_type": "code",
      "metadata": {
        "id": "e1FddSYcgrkA",
        "colab_type": "code",
        "outputId": "aedb1786-edf3-49e4-9a17-633fa69d9ea7",
        "colab": {
          "base_uri": "https://localhost:8080/",
          "height": 1000
        }
      },
      "source": [
        "y_pred = regressor.predict(ploy_reg.transform(X_test))\n",
        "np.set_printoptions(precision=2)\n",
        "print(np.concatenate((y_pred.reshape(len(y_pred),1), y_test.reshape(len(y_pred),1)),1))"
      ],
      "execution_count": 43,
      "outputs": [
        {
          "output_type": "stream",
          "text": [
            "[[ 2.53  3.43]\n",
            " [10.93 11.95]\n",
            " [11.03 11.58]\n",
            " [10.44  9.75]\n",
            " [ 4.53  5.11]\n",
            " [ 7.45  8.71]\n",
            " [11.03 11.52]\n",
            " [ 6.42  7.13]\n",
            " [10.77 10.2 ]\n",
            " [11.03 11.64]\n",
            " [ 6.02  4.44]\n",
            " [10.99 11.99]\n",
            " [ 8.52  7.98]\n",
            " [11.03 11.23]\n",
            " [ 5.83  5.09]\n",
            " [ 7.18  8.25]\n",
            " [ 4.05  3.51]\n",
            " [10.31  9.79]\n",
            " [11.03 11.64]\n",
            " [ 9.55  8.83]\n",
            " [ 6.86  5.21]\n",
            " [ 5.51  5.2 ]\n",
            " [ 6.47  4.67]\n",
            " [ 7.43  7.71]\n",
            " [ 6.85  6.32]\n",
            " [ 2.75  3.04]\n",
            " [ 6.1   6.8 ]\n",
            " [ 5.22  4.8 ]\n",
            " [10.94 10.14]\n",
            " [ 8.04  8.06]\n",
            " [ 4.49  4.85]\n",
            " [ 3.87  4.21]\n",
            " [11.02 10.52]\n",
            " [10.72 12.63]\n",
            " [ 3.47  3.18]\n",
            " [ 5.    6.11]\n",
            " [11.02 11.5 ]\n",
            " [ 7.98  8.2 ]\n",
            " [10.91 11.49]\n",
            " [ 7.09  5.49]\n",
            " [10.95 11.13]\n",
            " [ 6.8   6.05]\n",
            " [ 3.62  3.89]\n",
            " [11.03 12.23]\n",
            " [ 7.72  7.71]\n",
            " [ 9.76 10.46]\n",
            " [ 3.57  3.37]\n",
            " [10.26  9.73]\n",
            " [ 8.32  8.67]\n",
            " [10.77  9.27]\n",
            " [ 6.42  6.34]\n",
            " [ 6.45  5.78]\n",
            " [10.98 11.4 ]\n",
            " [ 6.32  5.77]\n",
            " [11.01  9.29]\n",
            " [ 8.8   9.5 ]\n",
            " [ 8.43  8.66]\n",
            " [ 5.13  4.54]\n",
            " [11.01 12.2 ]\n",
            " [ 2.54  3.57]\n",
            " [ 6.98  6.93]\n",
            " [ 3.73  3.58]\n",
            " [10.77  9.6 ]\n",
            " [ 6.78  5.71]\n",
            " [ 5.34  6.24]\n",
            " [ 9.92 11.77]\n",
            " [ 9.46  9.83]\n",
            " [ 3.85  3.27]\n",
            " [ 5.75  4.73]\n",
            " [ 8.99  8.37]\n",
            " [ 6.51  6.54]\n",
            " [10.96  9.92]\n",
            " [ 3.45  3.93]\n",
            " [ 7.85  8.57]\n",
            " [ 3.9   3.88]\n",
            " [ 6.38  6.93]\n",
            " [ 6.8   7.85]\n",
            " [11.03  9.42]\n",
            " [ 5.51  6.7 ]\n",
            " [ 8.67  8.71]\n",
            " [ 6.18  6.99]\n",
            " [ 6.95  7.21]\n",
            " [10.12 10.8 ]\n",
            " [11.03 12.23]\n",
            " [ 6.46  7.78]\n",
            " [ 9.55  9.17]\n",
            " [ 7.45  7.57]\n",
            " [11.01 11.36]\n",
            " [11.03 11.39]\n",
            " [ 3.58  4.08]\n",
            " [11.03 12.23]\n",
            " [ 3.67  4.08]\n",
            " [11.03 11.47]\n",
            " [ 8.63  7.75]\n",
            " [ 3.14  3.28]\n",
            " [ 4.07  3.62]\n",
            " [ 3.23  3.85]\n",
            " [11.   10.77]\n",
            " [ 2.44  3.14]\n",
            " [ 5.72  4.38]]\n"
          ],
          "name": "stdout"
        }
      ]
    },
    {
      "cell_type": "markdown",
      "metadata": {
        "id": "Uo0dBulAXYBG",
        "colab_type": "text"
      },
      "source": [
        "## plotting polynomial curve for training data"
      ]
    },
    {
      "cell_type": "code",
      "metadata": {
        "id": "0tcCqdHRXbyL",
        "colab_type": "code",
        "outputId": "c5a85cd5-ddc1-428f-a142-23a45ca70362",
        "colab": {
          "base_uri": "https://localhost:8080/",
          "height": 295
        }
      },
      "source": [
        "plt.scatter(X_train,y_train, color = 'red')\n",
        "plt.plot(X_train,regressor.predict(ploy_reg.transform(X_train)), color = 'blue')\n",
        "plt.title('Salanity vs temperature (Training Set)')\n",
        "plt.xlabel('Salanity')\n",
        "plt.ylabel('Temperature')\n",
        "plt.show()"
      ],
      "execution_count": 44,
      "outputs": [
        {
          "output_type": "display_data",
          "data": {
            "image/png": "[encoded data removed]",
            "text/plain": [
              "<Figure size 432x288 with 1 Axes>"
            ]
          },
          "metadata": {
            "tags": [],
            "needs_background": "light"
          }
        }
      ]
    },
    {
      "cell_type": "markdown",
      "metadata": {
        "id": "ns3JN_ojYGzy",
        "colab_type": "text"
      },
      "source": [
        "## Plotting polynomial curve for test data "
      ]
    },
    {
      "cell_type": "code",
      "metadata": {
        "id": "c1A20QwKYLbJ",
        "colab_type": "code",
        "outputId": "7a035de5-ce4c-43f6-d4ac-8d995ff4def1",
        "colab": {
          "base_uri": "https://localhost:8080/",
          "height": 265
        }
      },
      "source": [
        "import operator\n",
        "plt.scatter(X_test, y_test, s=50)\n",
        "# sort the values of x before line plot\n",
        "sort_axis = operator.itemgetter(0)\n",
        "sorted_zip = sorted(zip(X_test,y_pred), key=sort_axis)\n",
        "X_train, polynomial_predict = zip(*sorted_zip)\n",
        "plt.plot(X_train, polynomial_predict, color='m')\n",
        "plt.show()"
      ],
      "execution_count": 47,
      "outputs": [
        {
          "output_type": "display_data",
          "data": {
            "image/png": "[encoded data removed]",
            "text/plain": [
              "<Figure size 432x288 with 1 Axes>"
            ]
          },
          "metadata": {
            "tags": [],
            "needs_background": "light"
          }
        }
      ]
    },
    {
      "cell_type": "markdown",
      "metadata": {
        "id": "itW_0cSyaI7u",
        "colab_type": "text"
      },
      "source": [
        "## Model Evaluation"
      ]
    },
    {
      "cell_type": "code",
      "metadata": {
        "id": "O9OZRrt_aLLj",
        "colab_type": "code",
        "outputId": "4ffe455c-ff08-4fbe-90ab-6be8ff519c31",
        "colab": {
          "base_uri": "https://localhost:8080/",
          "height": 50
        }
      },
      "source": [
        "from sklearn.metrics import mean_squared_error,r2_score\n",
        "rmse = np.sqrt(mean_squared_error(y_test,y_pred))\n",
        "r2 = r2_score(y_test,y_pred)\n",
        "print(\"RMSE Score for Test set: \" +\"{:.2}\".format(rmse))\n",
        "print(\"R2 Score for Test set: \" +\"{:.2}\".format(r2))"
      ],
      "execution_count": 46,
      "outputs": [
        {
          "output_type": "stream",
          "text": [
            "RMSE Score for Test set: 0.83\n",
            "R2 Score for Test set: 0.92\n"
          ],
          "name": "stdout"
        }
      ]
    }
  ]
}